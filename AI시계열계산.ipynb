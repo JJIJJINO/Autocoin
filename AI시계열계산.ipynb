{
  "nbformat": 4,
  "nbformat_minor": 0,
  "metadata": {
    "colab": {
      "name": "Untitled1.ipynb",
      "provenance": [],
      "authorship_tag": "ABX9TyOe7Rx7C1cqOZLR+v0Fqigk",
      "include_colab_link": true
    },
    "kernelspec": {
      "name": "python3",
      "display_name": "Python 3"
    },
    "language_info": {
      "name": "python"
    }
  },
  "cells": [
    {
      "cell_type": "markdown",
      "metadata": {
        "id": "view-in-github",
        "colab_type": "text"
      },
      "source": [
        "<a href=\"https://colab.research.google.com/github/JJIJJINO/Autocoin/blob/main/AI%EC%8B%9C%EA%B3%84%EC%97%B4%EA%B3%84%EC%82%B0.ipynb\" target=\"_parent\"><img src=\"https://colab.research.google.com/assets/colab-badge.svg\" alt=\"Open In Colab\"/></a>"
      ]
    },
    {
      "cell_type": "code",
      "metadata": {
        "colab": {
          "base_uri": "https://localhost:8080/"
        },
        "id": "PmzxstOlCaKa",
        "outputId": "71ae9935-837a-4857-baf5-79d2769054ee"
      },
      "source": [
        "\n",
        "!pip install pyupbit"
      ],
      "execution_count": 1,
      "outputs": [
        {
          "output_type": "stream",
          "text": [
            "Collecting pyupbit\n",
            "  Downloading pyupbit-0.2.19-py3-none-any.whl (19 kB)\n",
            "Collecting pyjwt>=2.0.0\n",
            "  Downloading PyJWT-2.1.0-py3-none-any.whl (16 kB)\n",
            "Requirement already satisfied: requests in /usr/local/lib/python3.7/dist-packages (from pyupbit) (2.23.0)\n",
            "Requirement already satisfied: pandas in /usr/local/lib/python3.7/dist-packages (from pyupbit) (1.1.5)\n",
            "Collecting websockets\n",
            "  Downloading websockets-9.1-cp37-cp37m-manylinux2010_x86_64.whl (103 kB)\n",
            "\u001b[K     |████████████████████████████████| 103 kB 8.6 MB/s \n",
            "\u001b[?25hRequirement already satisfied: numpy>=1.15.4 in /usr/local/lib/python3.7/dist-packages (from pandas->pyupbit) (1.19.5)\n",
            "Requirement already satisfied: python-dateutil>=2.7.3 in /usr/local/lib/python3.7/dist-packages (from pandas->pyupbit) (2.8.2)\n",
            "Requirement already satisfied: pytz>=2017.2 in /usr/local/lib/python3.7/dist-packages (from pandas->pyupbit) (2018.9)\n",
            "Requirement already satisfied: six>=1.5 in /usr/local/lib/python3.7/dist-packages (from python-dateutil>=2.7.3->pandas->pyupbit) (1.15.0)\n",
            "Requirement already satisfied: chardet<4,>=3.0.2 in /usr/local/lib/python3.7/dist-packages (from requests->pyupbit) (3.0.4)\n",
            "Requirement already satisfied: idna<3,>=2.5 in /usr/local/lib/python3.7/dist-packages (from requests->pyupbit) (2.10)\n",
            "Requirement already satisfied: urllib3!=1.25.0,!=1.25.1,<1.26,>=1.21.1 in /usr/local/lib/python3.7/dist-packages (from requests->pyupbit) (1.24.3)\n",
            "Requirement already satisfied: certifi>=2017.4.17 in /usr/local/lib/python3.7/dist-packages (from requests->pyupbit) (2021.5.30)\n",
            "Installing collected packages: websockets, pyjwt, pyupbit\n",
            "Successfully installed pyjwt-2.1.0 pyupbit-0.2.19 websockets-9.1\n"
          ],
          "name": "stdout"
        }
      ]
    },
    {
      "cell_type": "code",
      "metadata": {
        "id": "gV1w2baYCcc8"
      },
      "source": [
        "import pyupbit"
      ],
      "execution_count": 2,
      "outputs": []
    },
    {
      "cell_type": "code",
      "metadata": {
        "colab": {
          "base_uri": "https://localhost:8080/",
          "height": 417
        },
        "id": "_dTfnkOwEbcM",
        "outputId": "ba4a8f99-dfd4-4778-f0e8-5ae7721bbb17"
      },
      "source": [
        "#BTC 최근 200시간의 데이터 불러옴\n",
        "df = pyupbit.get_ohlcv(\"KRW-BTC\", interval=\"minute60\")\n",
        "df\n"
      ],
      "execution_count": 40,
      "outputs": [
        {
          "output_type": "execute_result",
          "data": {
            "text/html": [
              "<div>\n",
              "<style scoped>\n",
              "    .dataframe tbody tr th:only-of-type {\n",
              "        vertical-align: middle;\n",
              "    }\n",
              "\n",
              "    .dataframe tbody tr th {\n",
              "        vertical-align: top;\n",
              "    }\n",
              "\n",
              "    .dataframe thead th {\n",
              "        text-align: right;\n",
              "    }\n",
              "</style>\n",
              "<table border=\"1\" class=\"dataframe\">\n",
              "  <thead>\n",
              "    <tr style=\"text-align: right;\">\n",
              "      <th></th>\n",
              "      <th>open</th>\n",
              "      <th>high</th>\n",
              "      <th>low</th>\n",
              "      <th>close</th>\n",
              "      <th>volume</th>\n",
              "      <th>value</th>\n",
              "    </tr>\n",
              "  </thead>\n",
              "  <tbody>\n",
              "    <tr>\n",
              "      <th>2021-08-17 13:00:00</th>\n",
              "      <td>54327000.0</td>\n",
              "      <td>54500000.0</td>\n",
              "      <td>54076000.0</td>\n",
              "      <td>54200000.0</td>\n",
              "      <td>281.919649</td>\n",
              "      <td>1.529803e+10</td>\n",
              "    </tr>\n",
              "    <tr>\n",
              "      <th>2021-08-17 14:00:00</th>\n",
              "      <td>54202000.0</td>\n",
              "      <td>54280000.0</td>\n",
              "      <td>53750000.0</td>\n",
              "      <td>53778000.0</td>\n",
              "      <td>298.004413</td>\n",
              "      <td>1.610308e+10</td>\n",
              "    </tr>\n",
              "    <tr>\n",
              "      <th>2021-08-17 15:00:00</th>\n",
              "      <td>53778000.0</td>\n",
              "      <td>53939000.0</td>\n",
              "      <td>53599000.0</td>\n",
              "      <td>53659000.0</td>\n",
              "      <td>341.383953</td>\n",
              "      <td>1.835380e+10</td>\n",
              "    </tr>\n",
              "    <tr>\n",
              "      <th>2021-08-17 16:00:00</th>\n",
              "      <td>53659000.0</td>\n",
              "      <td>53871000.0</td>\n",
              "      <td>53551000.0</td>\n",
              "      <td>53800000.0</td>\n",
              "      <td>295.412436</td>\n",
              "      <td>1.585885e+10</td>\n",
              "    </tr>\n",
              "    <tr>\n",
              "      <th>2021-08-17 17:00:00</th>\n",
              "      <td>53792000.0</td>\n",
              "      <td>54117000.0</td>\n",
              "      <td>53704000.0</td>\n",
              "      <td>53926000.0</td>\n",
              "      <td>260.362938</td>\n",
              "      <td>1.404081e+10</td>\n",
              "    </tr>\n",
              "    <tr>\n",
              "      <th>...</th>\n",
              "      <td>...</td>\n",
              "      <td>...</td>\n",
              "      <td>...</td>\n",
              "      <td>...</td>\n",
              "      <td>...</td>\n",
              "      <td>...</td>\n",
              "    </tr>\n",
              "    <tr>\n",
              "      <th>2021-08-25 16:00:00</th>\n",
              "      <td>56574000.0</td>\n",
              "      <td>56819000.0</td>\n",
              "      <td>56434000.0</td>\n",
              "      <td>56635000.0</td>\n",
              "      <td>725.264325</td>\n",
              "      <td>4.107490e+10</td>\n",
              "    </tr>\n",
              "    <tr>\n",
              "      <th>2021-08-25 17:00:00</th>\n",
              "      <td>56635000.0</td>\n",
              "      <td>56741000.0</td>\n",
              "      <td>55142000.0</td>\n",
              "      <td>55194000.0</td>\n",
              "      <td>1863.297066</td>\n",
              "      <td>1.042972e+11</td>\n",
              "    </tr>\n",
              "    <tr>\n",
              "      <th>2021-08-25 18:00:00</th>\n",
              "      <td>55188000.0</td>\n",
              "      <td>55700000.0</td>\n",
              "      <td>55100000.0</td>\n",
              "      <td>55395000.0</td>\n",
              "      <td>972.323927</td>\n",
              "      <td>5.380647e+10</td>\n",
              "    </tr>\n",
              "    <tr>\n",
              "      <th>2021-08-25 19:00:00</th>\n",
              "      <td>55395000.0</td>\n",
              "      <td>55650000.0</td>\n",
              "      <td>55285000.0</td>\n",
              "      <td>55525000.0</td>\n",
              "      <td>397.722435</td>\n",
              "      <td>2.207675e+10</td>\n",
              "    </tr>\n",
              "    <tr>\n",
              "      <th>2021-08-25 20:00:00</th>\n",
              "      <td>55522000.0</td>\n",
              "      <td>55549000.0</td>\n",
              "      <td>55285000.0</td>\n",
              "      <td>55501000.0</td>\n",
              "      <td>216.370144</td>\n",
              "      <td>1.199262e+10</td>\n",
              "    </tr>\n",
              "  </tbody>\n",
              "</table>\n",
              "<p>200 rows × 6 columns</p>\n",
              "</div>"
            ],
            "text/plain": [
              "                           open        high  ...       volume         value\n",
              "2021-08-17 13:00:00  54327000.0  54500000.0  ...   281.919649  1.529803e+10\n",
              "2021-08-17 14:00:00  54202000.0  54280000.0  ...   298.004413  1.610308e+10\n",
              "2021-08-17 15:00:00  53778000.0  53939000.0  ...   341.383953  1.835380e+10\n",
              "2021-08-17 16:00:00  53659000.0  53871000.0  ...   295.412436  1.585885e+10\n",
              "2021-08-17 17:00:00  53792000.0  54117000.0  ...   260.362938  1.404081e+10\n",
              "...                         ...         ...  ...          ...           ...\n",
              "2021-08-25 16:00:00  56574000.0  56819000.0  ...   725.264325  4.107490e+10\n",
              "2021-08-25 17:00:00  56635000.0  56741000.0  ...  1863.297066  1.042972e+11\n",
              "2021-08-25 18:00:00  55188000.0  55700000.0  ...   972.323927  5.380647e+10\n",
              "2021-08-25 19:00:00  55395000.0  55650000.0  ...   397.722435  2.207675e+10\n",
              "2021-08-25 20:00:00  55522000.0  55549000.0  ...   216.370144  1.199262e+10\n",
              "\n",
              "[200 rows x 6 columns]"
            ]
          },
          "metadata": {},
          "execution_count": 40
        }
      ]
    },
    {
      "cell_type": "code",
      "metadata": {
        "colab": {
          "base_uri": "https://localhost:8080/",
          "height": 417
        },
        "id": "qeFJCSgtEd2T",
        "outputId": "e069c434-98ec-4467-d6f3-41037f37d334"
      },
      "source": [
        "#시간(ds)와 종가(y)값만 남김\n",
        "df = df.reset_index()\n",
        "df['ds'] = df['index']\n",
        "df['y'] = df['close']\n",
        "data = df[['ds','y']]\n",
        "data"
      ],
      "execution_count": 41,
      "outputs": [
        {
          "output_type": "execute_result",
          "data": {
            "text/html": [
              "<div>\n",
              "<style scoped>\n",
              "    .dataframe tbody tr th:only-of-type {\n",
              "        vertical-align: middle;\n",
              "    }\n",
              "\n",
              "    .dataframe tbody tr th {\n",
              "        vertical-align: top;\n",
              "    }\n",
              "\n",
              "    .dataframe thead th {\n",
              "        text-align: right;\n",
              "    }\n",
              "</style>\n",
              "<table border=\"1\" class=\"dataframe\">\n",
              "  <thead>\n",
              "    <tr style=\"text-align: right;\">\n",
              "      <th></th>\n",
              "      <th>ds</th>\n",
              "      <th>y</th>\n",
              "    </tr>\n",
              "  </thead>\n",
              "  <tbody>\n",
              "    <tr>\n",
              "      <th>0</th>\n",
              "      <td>2021-08-17 13:00:00</td>\n",
              "      <td>54200000.0</td>\n",
              "    </tr>\n",
              "    <tr>\n",
              "      <th>1</th>\n",
              "      <td>2021-08-17 14:00:00</td>\n",
              "      <td>53778000.0</td>\n",
              "    </tr>\n",
              "    <tr>\n",
              "      <th>2</th>\n",
              "      <td>2021-08-17 15:00:00</td>\n",
              "      <td>53659000.0</td>\n",
              "    </tr>\n",
              "    <tr>\n",
              "      <th>3</th>\n",
              "      <td>2021-08-17 16:00:00</td>\n",
              "      <td>53800000.0</td>\n",
              "    </tr>\n",
              "    <tr>\n",
              "      <th>4</th>\n",
              "      <td>2021-08-17 17:00:00</td>\n",
              "      <td>53926000.0</td>\n",
              "    </tr>\n",
              "    <tr>\n",
              "      <th>...</th>\n",
              "      <td>...</td>\n",
              "      <td>...</td>\n",
              "    </tr>\n",
              "    <tr>\n",
              "      <th>195</th>\n",
              "      <td>2021-08-25 16:00:00</td>\n",
              "      <td>56635000.0</td>\n",
              "    </tr>\n",
              "    <tr>\n",
              "      <th>196</th>\n",
              "      <td>2021-08-25 17:00:00</td>\n",
              "      <td>55194000.0</td>\n",
              "    </tr>\n",
              "    <tr>\n",
              "      <th>197</th>\n",
              "      <td>2021-08-25 18:00:00</td>\n",
              "      <td>55395000.0</td>\n",
              "    </tr>\n",
              "    <tr>\n",
              "      <th>198</th>\n",
              "      <td>2021-08-25 19:00:00</td>\n",
              "      <td>55525000.0</td>\n",
              "    </tr>\n",
              "    <tr>\n",
              "      <th>199</th>\n",
              "      <td>2021-08-25 20:00:00</td>\n",
              "      <td>55501000.0</td>\n",
              "    </tr>\n",
              "  </tbody>\n",
              "</table>\n",
              "<p>200 rows × 2 columns</p>\n",
              "</div>"
            ],
            "text/plain": [
              "                     ds           y\n",
              "0   2021-08-17 13:00:00  54200000.0\n",
              "1   2021-08-17 14:00:00  53778000.0\n",
              "2   2021-08-17 15:00:00  53659000.0\n",
              "3   2021-08-17 16:00:00  53800000.0\n",
              "4   2021-08-17 17:00:00  53926000.0\n",
              "..                  ...         ...\n",
              "195 2021-08-25 16:00:00  56635000.0\n",
              "196 2021-08-25 17:00:00  55194000.0\n",
              "197 2021-08-25 18:00:00  55395000.0\n",
              "198 2021-08-25 19:00:00  55525000.0\n",
              "199 2021-08-25 20:00:00  55501000.0\n",
              "\n",
              "[200 rows x 2 columns]"
            ]
          },
          "metadata": {},
          "execution_count": 41
        }
      ]
    },
    {
      "cell_type": "code",
      "metadata": {
        "id": "1KYfJID_EfOr"
      },
      "source": [
        "#prophet 불러옴\n",
        "from fbprophet import Prophet"
      ],
      "execution_count": 42,
      "outputs": []
    },
    {
      "cell_type": "code",
      "metadata": {
        "colab": {
          "base_uri": "https://localhost:8080/"
        },
        "id": "qcKbNz5ZEnY0",
        "outputId": "d9b6e2e3-d038-4d76-8280-00d6978b16b0"
      },
      "source": [
        "#학습\n",
        "model = Prophet()\n",
        "model.fit(data)"
      ],
      "execution_count": 43,
      "outputs": [
        {
          "output_type": "stream",
          "text": [
            "INFO:fbprophet:Disabling yearly seasonality. Run prophet with yearly_seasonality=True to override this.\n",
            "INFO:fbprophet:Disabling weekly seasonality. Run prophet with weekly_seasonality=True to override this.\n"
          ],
          "name": "stderr"
        },
        {
          "output_type": "execute_result",
          "data": {
            "text/plain": [
              "<fbprophet.forecaster.Prophet at 0x7f6c11e9b690>"
            ]
          },
          "metadata": {},
          "execution_count": 43
        }
      ]
    },
    {
      "cell_type": "code",
      "metadata": {
        "id": "xQNhoGbPEo_8"
      },
      "source": [
        "#24시간 미래 예측\n",
        "future = model.make_future_dataframe(periods=48, freq='H')\n",
        "forecast = model.predict(future)"
      ],
      "execution_count": 44,
      "outputs": []
    },
    {
      "cell_type": "code",
      "metadata": {
        "colab": {
          "base_uri": "https://localhost:8080/",
          "height": 441
        },
        "id": "-Ky3mha7EtUF",
        "outputId": "d8d07870-6f1f-45b5-f643-7394c0262802"
      },
      "source": [
        "#그래프1\n",
        "fig1 = model.plot(forecast)"
      ],
      "execution_count": 45,
      "outputs": [
        {
          "output_type": "display_data",
          "data": {
            "image/png": "[encoded data removed]",
            "text/plain": [
              "<Figure size 720x432 with 1 Axes>"
            ]
          },
          "metadata": {}
        }
      ]
    },
    {
      "cell_type": "code",
      "metadata": {
        "colab": {
          "base_uri": "https://localhost:8080/",
          "height": 441
        },
        "id": "opLuLepvEvUr",
        "outputId": "ad31fa59-7020-440b-ea3f-3cdc2e623d5b"
      },
      "source": [
        "#그래프2\n",
        "fig2 = model.plot_components(forecast)"
      ],
      "execution_count": 21,
      "outputs": [
        {
          "output_type": "display_data",
          "data": {
            "image/png": "[encoded data removed]",
            "text/plain": [
              "<Figure size 648x432 with 2 Axes>"
            ]
          },
          "metadata": {}
        }
      ]
    },
    {
      "cell_type": "code",
      "metadata": {
        "colab": {
          "base_uri": "https://localhost:8080/"
        },
        "id": "J2h5gg7AFVZc",
        "outputId": "c70ed8ff-10b1-49f7-bc3a-cb2d5a62b83c"
      },
      "source": [
        "#매수 시점의 가격\n",
        "nowValue = pyupbit.get_current_price(\"KRW-XRP\")\n",
        "nowValue"
      ],
      "execution_count": 22,
      "outputs": [
        {
          "output_type": "execute_result",
          "data": {
            "text/plain": [
              "1330.0"
            ]
          },
          "metadata": {},
          "execution_count": 22
        }
      ]
    },
    {
      "cell_type": "code",
      "metadata": {
        "colab": {
          "base_uri": "https://localhost:8080/"
        },
        "id": "09gyuf8zFixs",
        "outputId": "17b68f5a-c57c-4337-c43d-2bc2154daa65"
      },
      "source": [
        "#종가의 가격을 구함\n",
        "\n",
        "#현재 시간이 자정 이전\n",
        "closeDf = forecast[forecast['ds'] == forecast.iloc[-1]['ds'].replace(hour=9)]\n",
        "\n",
        "#현재 시간이 자정 이후\n",
        "if len(closeDf) == 0:\n",
        "  closeDf = forecast[forecast['ds'] == data.iloc[-1]['ds'].replace(hour=9)]\n",
        "\n",
        "#어쨋든 당일 종가\n",
        "closeValue = closeDf['yhat'].values[0]\n",
        "closeValue"
      ],
      "execution_count": 23,
      "outputs": [
        {
          "output_type": "execute_result",
          "data": {
            "text/plain": [
              "1285.9897562899619"
            ]
          },
          "metadata": {},
          "execution_count": 23
        }
      ]
    },
    {
      "cell_type": "code",
      "metadata": {
        "colab": {
          "base_uri": "https://localhost:8080/"
        },
        "id": "xV2-rbnqFrNN",
        "outputId": "c4926e45-f2e2-4742-9510-31c8f61bb1d6"
      },
      "source": [
        "#구체적인 가격\n",
        "print(\"현재 시점 가격: \", nowValue)\n",
        "print(\"종가의 가격: \", closeValue)"
      ],
      "execution_count": 24,
      "outputs": [
        {
          "output_type": "stream",
          "text": [
            "현재 시점 가격:  1330.0\n",
            "종가의 가격:  1285.9897562899619\n"
          ],
          "name": "stdout"
        }
      ]
    },
    {
      "cell_type": "code",
      "metadata": {
        "colab": {
          "base_uri": "https://localhost:8080/",
          "height": 773
        },
        "id": "V7fUrSDnFtL8",
        "outputId": "18d64d5c-264b-4257-9950-a55b5278bbfa"
      },
      "source": [
        "forecast"
      ],
      "execution_count": 25,
      "outputs": [
        {
          "output_type": "execute_result",
          "data": {
            "text/html": [
              "<div>\n",
              "<style scoped>\n",
              "    .dataframe tbody tr th:only-of-type {\n",
              "        vertical-align: middle;\n",
              "    }\n",
              "\n",
              "    .dataframe tbody tr th {\n",
              "        vertical-align: top;\n",
              "    }\n",
              "\n",
              "    .dataframe thead th {\n",
              "        text-align: right;\n",
              "    }\n",
              "</style>\n",
              "<table border=\"1\" class=\"dataframe\">\n",
              "  <thead>\n",
              "    <tr style=\"text-align: right;\">\n",
              "      <th></th>\n",
              "      <th>ds</th>\n",
              "      <th>trend</th>\n",
              "      <th>yhat_lower</th>\n",
              "      <th>yhat_upper</th>\n",
              "      <th>trend_lower</th>\n",
              "      <th>trend_upper</th>\n",
              "      <th>additive_terms</th>\n",
              "      <th>additive_terms_lower</th>\n",
              "      <th>additive_terms_upper</th>\n",
              "      <th>daily</th>\n",
              "      <th>daily_lower</th>\n",
              "      <th>daily_upper</th>\n",
              "      <th>multiplicative_terms</th>\n",
              "      <th>multiplicative_terms_lower</th>\n",
              "      <th>multiplicative_terms_upper</th>\n",
              "      <th>yhat</th>\n",
              "    </tr>\n",
              "  </thead>\n",
              "  <tbody>\n",
              "    <tr>\n",
              "      <th>0</th>\n",
              "      <td>2021-08-17 13:00:00</td>\n",
              "      <td>1396.976931</td>\n",
              "      <td>1371.676040</td>\n",
              "      <td>1424.091710</td>\n",
              "      <td>1396.976931</td>\n",
              "      <td>1396.976931</td>\n",
              "      <td>1.675174</td>\n",
              "      <td>1.675174</td>\n",
              "      <td>1.675174</td>\n",
              "      <td>1.675174</td>\n",
              "      <td>1.675174</td>\n",
              "      <td>1.675174</td>\n",
              "      <td>0.0</td>\n",
              "      <td>0.0</td>\n",
              "      <td>0.0</td>\n",
              "      <td>1398.652105</td>\n",
              "    </tr>\n",
              "    <tr>\n",
              "      <th>1</th>\n",
              "      <td>2021-08-17 14:00:00</td>\n",
              "      <td>1393.771257</td>\n",
              "      <td>1373.508394</td>\n",
              "      <td>1421.110397</td>\n",
              "      <td>1393.771257</td>\n",
              "      <td>1393.771257</td>\n",
              "      <td>3.254034</td>\n",
              "      <td>3.254034</td>\n",
              "      <td>3.254034</td>\n",
              "      <td>3.254034</td>\n",
              "      <td>3.254034</td>\n",
              "      <td>3.254034</td>\n",
              "      <td>0.0</td>\n",
              "      <td>0.0</td>\n",
              "      <td>0.0</td>\n",
              "      <td>1397.025292</td>\n",
              "    </tr>\n",
              "    <tr>\n",
              "      <th>2</th>\n",
              "      <td>2021-08-17 15:00:00</td>\n",
              "      <td>1390.565584</td>\n",
              "      <td>1372.818747</td>\n",
              "      <td>1420.090870</td>\n",
              "      <td>1390.565584</td>\n",
              "      <td>1390.565584</td>\n",
              "      <td>4.937280</td>\n",
              "      <td>4.937280</td>\n",
              "      <td>4.937280</td>\n",
              "      <td>4.937280</td>\n",
              "      <td>4.937280</td>\n",
              "      <td>4.937280</td>\n",
              "      <td>0.0</td>\n",
              "      <td>0.0</td>\n",
              "      <td>0.0</td>\n",
              "      <td>1395.502864</td>\n",
              "    </tr>\n",
              "    <tr>\n",
              "      <th>3</th>\n",
              "      <td>2021-08-17 16:00:00</td>\n",
              "      <td>1387.359910</td>\n",
              "      <td>1369.249785</td>\n",
              "      <td>1419.366300</td>\n",
              "      <td>1387.359910</td>\n",
              "      <td>1387.359910</td>\n",
              "      <td>6.910874</td>\n",
              "      <td>6.910874</td>\n",
              "      <td>6.910874</td>\n",
              "      <td>6.910874</td>\n",
              "      <td>6.910874</td>\n",
              "      <td>6.910874</td>\n",
              "      <td>0.0</td>\n",
              "      <td>0.0</td>\n",
              "      <td>0.0</td>\n",
              "      <td>1394.270784</td>\n",
              "    </tr>\n",
              "    <tr>\n",
              "      <th>4</th>\n",
              "      <td>2021-08-17 17:00:00</td>\n",
              "      <td>1384.154236</td>\n",
              "      <td>1368.312323</td>\n",
              "      <td>1418.305033</td>\n",
              "      <td>1384.154236</td>\n",
              "      <td>1384.154236</td>\n",
              "      <td>8.405778</td>\n",
              "      <td>8.405778</td>\n",
              "      <td>8.405778</td>\n",
              "      <td>8.405778</td>\n",
              "      <td>8.405778</td>\n",
              "      <td>8.405778</td>\n",
              "      <td>0.0</td>\n",
              "      <td>0.0</td>\n",
              "      <td>0.0</td>\n",
              "      <td>1392.560013</td>\n",
              "    </tr>\n",
              "    <tr>\n",
              "      <th>...</th>\n",
              "      <td>...</td>\n",
              "      <td>...</td>\n",
              "      <td>...</td>\n",
              "      <td>...</td>\n",
              "      <td>...</td>\n",
              "      <td>...</td>\n",
              "      <td>...</td>\n",
              "      <td>...</td>\n",
              "      <td>...</td>\n",
              "      <td>...</td>\n",
              "      <td>...</td>\n",
              "      <td>...</td>\n",
              "      <td>...</td>\n",
              "      <td>...</td>\n",
              "      <td>...</td>\n",
              "      <td>...</td>\n",
              "    </tr>\n",
              "    <tr>\n",
              "      <th>219</th>\n",
              "      <td>2021-08-26 16:00:00</td>\n",
              "      <td>1267.059453</td>\n",
              "      <td>1240.109572</td>\n",
              "      <td>1306.308720</td>\n",
              "      <td>1243.703404</td>\n",
              "      <td>1287.915514</td>\n",
              "      <td>6.910874</td>\n",
              "      <td>6.910874</td>\n",
              "      <td>6.910874</td>\n",
              "      <td>6.910874</td>\n",
              "      <td>6.910874</td>\n",
              "      <td>6.910874</td>\n",
              "      <td>0.0</td>\n",
              "      <td>0.0</td>\n",
              "      <td>0.0</td>\n",
              "      <td>1273.970327</td>\n",
              "    </tr>\n",
              "    <tr>\n",
              "      <th>220</th>\n",
              "      <td>2021-08-26 17:00:00</td>\n",
              "      <td>1263.843865</td>\n",
              "      <td>1232.493250</td>\n",
              "      <td>1309.234928</td>\n",
              "      <td>1238.853438</td>\n",
              "      <td>1286.764160</td>\n",
              "      <td>8.405778</td>\n",
              "      <td>8.405778</td>\n",
              "      <td>8.405778</td>\n",
              "      <td>8.405778</td>\n",
              "      <td>8.405778</td>\n",
              "      <td>8.405778</td>\n",
              "      <td>0.0</td>\n",
              "      <td>0.0</td>\n",
              "      <td>0.0</td>\n",
              "      <td>1272.249643</td>\n",
              "    </tr>\n",
              "    <tr>\n",
              "      <th>221</th>\n",
              "      <td>2021-08-26 18:00:00</td>\n",
              "      <td>1260.628277</td>\n",
              "      <td>1230.464694</td>\n",
              "      <td>1306.916116</td>\n",
              "      <td>1234.019505</td>\n",
              "      <td>1285.032657</td>\n",
              "      <td>8.164028</td>\n",
              "      <td>8.164028</td>\n",
              "      <td>8.164028</td>\n",
              "      <td>8.164028</td>\n",
              "      <td>8.164028</td>\n",
              "      <td>8.164028</td>\n",
              "      <td>0.0</td>\n",
              "      <td>0.0</td>\n",
              "      <td>0.0</td>\n",
              "      <td>1268.792305</td>\n",
              "    </tr>\n",
              "    <tr>\n",
              "      <th>222</th>\n",
              "      <td>2021-08-26 19:00:00</td>\n",
              "      <td>1257.412689</td>\n",
              "      <td>1222.670241</td>\n",
              "      <td>1301.723961</td>\n",
              "      <td>1229.422504</td>\n",
              "      <td>1283.870591</td>\n",
              "      <td>5.665764</td>\n",
              "      <td>5.665764</td>\n",
              "      <td>5.665764</td>\n",
              "      <td>5.665764</td>\n",
              "      <td>5.665764</td>\n",
              "      <td>5.665764</td>\n",
              "      <td>0.0</td>\n",
              "      <td>0.0</td>\n",
              "      <td>0.0</td>\n",
              "      <td>1263.078453</td>\n",
              "    </tr>\n",
              "    <tr>\n",
              "      <th>223</th>\n",
              "      <td>2021-08-26 20:00:00</td>\n",
              "      <td>1254.197101</td>\n",
              "      <td>1215.371585</td>\n",
              "      <td>1293.466863</td>\n",
              "      <td>1224.087458</td>\n",
              "      <td>1283.066367</td>\n",
              "      <td>1.879349</td>\n",
              "      <td>1.879349</td>\n",
              "      <td>1.879349</td>\n",
              "      <td>1.879349</td>\n",
              "      <td>1.879349</td>\n",
              "      <td>1.879349</td>\n",
              "      <td>0.0</td>\n",
              "      <td>0.0</td>\n",
              "      <td>0.0</td>\n",
              "      <td>1256.076451</td>\n",
              "    </tr>\n",
              "  </tbody>\n",
              "</table>\n",
              "<p>224 rows × 16 columns</p>\n",
              "</div>"
            ],
            "text/plain": [
              "                     ds        trend  ...  multiplicative_terms_upper         yhat\n",
              "0   2021-08-17 13:00:00  1396.976931  ...                         0.0  1398.652105\n",
              "1   2021-08-17 14:00:00  1393.771257  ...                         0.0  1397.025292\n",
              "2   2021-08-17 15:00:00  1390.565584  ...                         0.0  1395.502864\n",
              "3   2021-08-17 16:00:00  1387.359910  ...                         0.0  1394.270784\n",
              "4   2021-08-17 17:00:00  1384.154236  ...                         0.0  1392.560013\n",
              "..                  ...          ...  ...                         ...          ...\n",
              "219 2021-08-26 16:00:00  1267.059453  ...                         0.0  1273.970327\n",
              "220 2021-08-26 17:00:00  1263.843865  ...                         0.0  1272.249643\n",
              "221 2021-08-26 18:00:00  1260.628277  ...                         0.0  1268.792305\n",
              "222 2021-08-26 19:00:00  1257.412689  ...                         0.0  1263.078453\n",
              "223 2021-08-26 20:00:00  1254.197101  ...                         0.0  1256.076451\n",
              "\n",
              "[224 rows x 16 columns]"
            ]
          },
          "metadata": {},
          "execution_count": 25
        }
      ]
    },
    {
      "cell_type": "code",
      "metadata": {
        "id": "_gJ95nFyFywk"
      },
      "source": [
        ""
      ],
      "execution_count": null,
      "outputs": []
    }
  ]
}